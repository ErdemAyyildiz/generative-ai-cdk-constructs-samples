{
 "cells": [
  {
   "cell_type": "code",
   "execution_count": null,
   "id": "220e0f56",
   "metadata": {},
   "outputs": [],
   "source": [
    "from sagemaker.predictor import Predictor\n",
    "from sagemaker.serializers import JSONSerializer\n",
    "\n",
    "# The endpoint name must be unique within \n",
    "# an AWS Region in your AWS account. \n",
    "endpoint_name='TGIFalcon40B-Endpoint'\n",
    "predictor = Predictor(endpoint_name)"
   ]
  },
  {
   "cell_type": "code",
   "execution_count": null,
   "id": "31203383",
   "metadata": {},
   "outputs": [],
   "source": [
    "# Gets inference from the model hosted at the specified endpoint:\n",
    "\n",
    "predictor.serializer = JSONSerializer()\n",
    "# example request: you always need to define \"inputs\" but you can provide optional generation parameters as well\n",
    "# for more info see the API docs here: https://huggingface.github.io/text-generation-inference/#/Text%20Generation%20Inference/generate\n",
    "data = {\n",
    "    \"inputs\": \"What is AWS?\",\n",
    "    \"parameters\": {\"max_length\": 128},\n",
    "}\n",
    "print(predictor.predict(data))"
   ]
  },
  {
   "cell_type": "code",
   "execution_count": null,
   "id": "9958df59",
   "metadata": {},
   "outputs": [],
   "source": [
    "data = {\n",
    "    \"inputs\": \"What is the history of Amazon.com\"\n",
    "}\n",
    "print(predictor.predict(data))"
   ]
  },
  {
   "cell_type": "code",
   "execution_count": null,
   "id": "24ba5f6a",
   "metadata": {},
   "outputs": [],
   "source": []
  }
 ],
 "metadata": {
  "kernelspec": {
   "display_name": "conda_python3",
   "language": "python",
   "name": "conda_python3"
  },
  "language_info": {
   "codemirror_mode": {
    "name": "ipython",
    "version": 3
   },
   "file_extension": ".py",
   "mimetype": "text/x-python",
   "name": "python",
   "nbconvert_exporter": "python",
   "pygments_lexer": "ipython3",
   "version": "3.10.13"
  }
 },
 "nbformat": 4,
 "nbformat_minor": 5
}
